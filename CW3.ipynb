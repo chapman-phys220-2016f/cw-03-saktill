{
 "cells": [
  {
   "cell_type": "code",
   "execution_count": null,
   "metadata": {
    "collapsed": true
   },
   "outputs": [],
   "source": [
    "import plot_ball1 as plotter"
   ]
  },
  {
   "cell_type": "markdown",
   "metadata": {},
   "source": [
    "# Classwork 3\n",
    "## Sakthi and Will\n",
    "### September 20, 2016\n"
   ]
  },
  {
   "cell_type": "markdown",
   "metadata": {},
   "source": [
    "## Problem 2\n",
    "### Exercise 5.9\n",
    "This problem asked me to plot a specified function, specifically the function $$y(t) = v_0t - \\frac{1}{2}gt^2$$\n",
    "It asked for a plot of this function first given $v_0 = 10$, and second given a set of $v_0$'s specified by user input. To do this, I created a function that asked the user to input values of $v_0$, created sets of data for $t$ and the corresponding $y(t)$ values, and plotted them all on one graph, as asked in the second part of the question. To plot just $v_0 = 10$ I didn't write a separate function into the file, I simply implemented the more general function and input only $10$ as a $v_0$ value. \n",
    "So, here is the plot for $v_0 = 10$:"
   ]
  },
  {
   "cell_type": "code",
   "execution_count": 15,
   "metadata": {
    "collapsed": false
   },
   "outputs": [
    {
     "name": "stdout",
     "output_type": "stream",
     "text": [
      "Enter your list of v_0's, separated by commas: 10\n"
     ]
    },
    {
     "data": {
      "image/png": "[encoded data removed]",
      "text/plain": [
       "<matplotlib.figure.Figure at 0x7fc1073580d0>"
      ]
     },
     "metadata": {},
     "output_type": "display_data"
    }
   ],
   "source": [
    "l = plotter.getVTY()\n",
    "plotter.plot1(l[0], l[1], l[2])"
   ]
  },
  {
   "cell_type": "markdown",
   "metadata": {},
   "source": [
    "And here is the plot for a more interesting set of $v_0$'s: "
   ]
  },
  {
   "cell_type": "code",
   "execution_count": null,
   "metadata": {
    "collapsed": false
   },
   "outputs": [],
   "source": [
    "l = plotter.getVTY()\n",
    "plotter.plot1(l[0],l[1],l[2])"
   ]
  },
  {
   "cell_type": "markdown",
   "metadata": {
    "collapsed": true
   },
   "source": []
  }
 ],
 "metadata": {
  "kernelspec": {
   "display_name": "Python 2 (SageMath)",
   "language": "python",
   "name": "python2"
  },
  "language_info": {
   "codemirror_mode": {
    "name": "ipython",
    "version": 2
   },
   "file_extension": ".py",
   "mimetype": "text/x-python",
   "name": "python",
   "nbconvert_exporter": "python",
   "pygments_lexer": "ipython2",
   "version": "2.7.10"
  }
 },
 "nbformat": 4,
 "nbformat_minor": 0
}
